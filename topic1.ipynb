{
 "cells": [
  {
   "cell_type": "code",
   "execution_count": 28,
   "metadata": {
    "collapsed": true
   },
   "outputs": [
    {
     "data": {
      "text/plain": "Male      21790\nFemale    10771\nName: sex, dtype: int64"
     },
     "execution_count": 28,
     "metadata": {},
     "output_type": "execute_result"
    }
   ],
   "source": [
    "import pandas as pd\n",
    "df = pd.read_csv(\"adult.data.csv\")\n",
    "df['sex'].value_counts()"
   ]
  },
  {
   "cell_type": "code",
   "execution_count": 35,
   "outputs": [
    {
     "data": {
      "text/plain": "36.85823043357163"
     },
     "execution_count": 35,
     "metadata": {},
     "output_type": "execute_result"
    }
   ],
   "source": [
    "df[df['sex'] == 'Female']['age'].mean()"
   ],
   "metadata": {
    "collapsed": false,
    "pycharm": {
     "name": "#%%\n"
    }
   }
  },
  {
   "cell_type": "markdown",
   "source": [],
   "metadata": {
    "collapsed": false
   }
  },
  {
   "cell_type": "code",
   "execution_count": 38,
   "outputs": [
    {
     "data": {
      "text/plain": "       age         workclass  fnlwgt     education  education-num  \\\n122     30           Private   77143     Bachelors             13   \n280     22           Private   34918     Bachelors             13   \n767     22           Private  151790  Some-college             10   \n1009    26           Private  109186  Some-college             10   \n1142    59       Federal-gov  212448       HS-grad              9   \n...    ...               ...     ...           ...            ...   \n32074   30           Private  318749     Assoc-voc             11   \n32101   45           Private  174794     Bachelors             13   \n32141   34           Private  193344  Some-college             10   \n32236   26           Private  323044  Some-college             10   \n32341   74  Self-emp-not-inc  199136     Bachelors             13   \n\n           marital-status       occupation   relationship   race     sex  \\\n122         Never-married  Exec-managerial      Own-child  Black    Male   \n280         Never-married   Prof-specialty  Not-in-family  White  Female   \n767    Married-civ-spouse            Sales           Wife  White  Female   \n1009   Married-civ-spouse            Sales        Husband  White    Male   \n1142              Widowed            Sales      Unmarried  White  Female   \n...                   ...              ...            ...    ...     ...   \n32074  Married-civ-spouse     Tech-support           Wife  White  Female   \n32101           Separated   Prof-specialty      Unmarried  White  Female   \n32141       Never-married     Adm-clerical      Unmarried  White  Female   \n32236  Married-civ-spouse  Exec-managerial        Husband  White    Male   \n32341             Widowed     Craft-repair  Not-in-family  White    Male   \n\n       capital-gain  capital-loss  hours-per-week native-country salary  \n122               0             0              40        Germany  <=50K  \n280               0             0              15        Germany  <=50K  \n767               0             0              30        Germany  <=50K  \n1009              0             0              50        Germany  <=50K  \n1142              0             0              40        Germany  <=50K  \n...             ...           ...             ...            ...    ...  \n32074             0             0              35        Germany  <=50K  \n32101             0             0              56        Germany  <=50K  \n32141             0             0              40        Germany  <=50K  \n32236             0             0              45        Germany   >50K  \n32341         15831             0               8        Germany   >50K  \n\n[137 rows x 15 columns]",
      "text/html": "<div>\n<style scoped>\n    .dataframe tbody tr th:only-of-type {\n        vertical-align: middle;\n    }\n\n    .dataframe tbody tr th {\n        vertical-align: top;\n    }\n\n    .dataframe thead th {\n        text-align: right;\n    }\n</style>\n<table border=\"1\" class=\"dataframe\">\n  <thead>\n    <tr style=\"text-align: right;\">\n      <th></th>\n      <th>age</th>\n      <th>workclass</th>\n      <th>fnlwgt</th>\n      <th>education</th>\n      <th>education-num</th>\n      <th>marital-status</th>\n      <th>occupation</th>\n      <th>relationship</th>\n      <th>race</th>\n      <th>sex</th>\n      <th>capital-gain</th>\n      <th>capital-loss</th>\n      <th>hours-per-week</th>\n      <th>native-country</th>\n      <th>salary</th>\n    </tr>\n  </thead>\n  <tbody>\n    <tr>\n      <th>122</th>\n      <td>30</td>\n      <td>Private</td>\n      <td>77143</td>\n      <td>Bachelors</td>\n      <td>13</td>\n      <td>Never-married</td>\n      <td>Exec-managerial</td>\n      <td>Own-child</td>\n      <td>Black</td>\n      <td>Male</td>\n      <td>0</td>\n      <td>0</td>\n      <td>40</td>\n      <td>Germany</td>\n      <td>&lt;=50K</td>\n    </tr>\n    <tr>\n      <th>280</th>\n      <td>22</td>\n      <td>Private</td>\n      <td>34918</td>\n      <td>Bachelors</td>\n      <td>13</td>\n      <td>Never-married</td>\n      <td>Prof-specialty</td>\n      <td>Not-in-family</td>\n      <td>White</td>\n      <td>Female</td>\n      <td>0</td>\n      <td>0</td>\n      <td>15</td>\n      <td>Germany</td>\n      <td>&lt;=50K</td>\n    </tr>\n    <tr>\n      <th>767</th>\n      <td>22</td>\n      <td>Private</td>\n      <td>151790</td>\n      <td>Some-college</td>\n      <td>10</td>\n      <td>Married-civ-spouse</td>\n      <td>Sales</td>\n      <td>Wife</td>\n      <td>White</td>\n      <td>Female</td>\n      <td>0</td>\n      <td>0</td>\n      <td>30</td>\n      <td>Germany</td>\n      <td>&lt;=50K</td>\n    </tr>\n    <tr>\n      <th>1009</th>\n      <td>26</td>\n      <td>Private</td>\n      <td>109186</td>\n      <td>Some-college</td>\n      <td>10</td>\n      <td>Married-civ-spouse</td>\n      <td>Sales</td>\n      <td>Husband</td>\n      <td>White</td>\n      <td>Male</td>\n      <td>0</td>\n      <td>0</td>\n      <td>50</td>\n      <td>Germany</td>\n      <td>&lt;=50K</td>\n    </tr>\n    <tr>\n      <th>1142</th>\n      <td>59</td>\n      <td>Federal-gov</td>\n      <td>212448</td>\n      <td>HS-grad</td>\n      <td>9</td>\n      <td>Widowed</td>\n      <td>Sales</td>\n      <td>Unmarried</td>\n      <td>White</td>\n      <td>Female</td>\n      <td>0</td>\n      <td>0</td>\n      <td>40</td>\n      <td>Germany</td>\n      <td>&lt;=50K</td>\n    </tr>\n    <tr>\n      <th>...</th>\n      <td>...</td>\n      <td>...</td>\n      <td>...</td>\n      <td>...</td>\n      <td>...</td>\n      <td>...</td>\n      <td>...</td>\n      <td>...</td>\n      <td>...</td>\n      <td>...</td>\n      <td>...</td>\n      <td>...</td>\n      <td>...</td>\n      <td>...</td>\n      <td>...</td>\n    </tr>\n    <tr>\n      <th>32074</th>\n      <td>30</td>\n      <td>Private</td>\n      <td>318749</td>\n      <td>Assoc-voc</td>\n      <td>11</td>\n      <td>Married-civ-spouse</td>\n      <td>Tech-support</td>\n      <td>Wife</td>\n      <td>White</td>\n      <td>Female</td>\n      <td>0</td>\n      <td>0</td>\n      <td>35</td>\n      <td>Germany</td>\n      <td>&lt;=50K</td>\n    </tr>\n    <tr>\n      <th>32101</th>\n      <td>45</td>\n      <td>Private</td>\n      <td>174794</td>\n      <td>Bachelors</td>\n      <td>13</td>\n      <td>Separated</td>\n      <td>Prof-specialty</td>\n      <td>Unmarried</td>\n      <td>White</td>\n      <td>Female</td>\n      <td>0</td>\n      <td>0</td>\n      <td>56</td>\n      <td>Germany</td>\n      <td>&lt;=50K</td>\n    </tr>\n    <tr>\n      <th>32141</th>\n      <td>34</td>\n      <td>Private</td>\n      <td>193344</td>\n      <td>Some-college</td>\n      <td>10</td>\n      <td>Never-married</td>\n      <td>Adm-clerical</td>\n      <td>Unmarried</td>\n      <td>White</td>\n      <td>Female</td>\n      <td>0</td>\n      <td>0</td>\n      <td>40</td>\n      <td>Germany</td>\n      <td>&lt;=50K</td>\n    </tr>\n    <tr>\n      <th>32236</th>\n      <td>26</td>\n      <td>Private</td>\n      <td>323044</td>\n      <td>Some-college</td>\n      <td>10</td>\n      <td>Married-civ-spouse</td>\n      <td>Exec-managerial</td>\n      <td>Husband</td>\n      <td>White</td>\n      <td>Male</td>\n      <td>0</td>\n      <td>0</td>\n      <td>45</td>\n      <td>Germany</td>\n      <td>&gt;50K</td>\n    </tr>\n    <tr>\n      <th>32341</th>\n      <td>74</td>\n      <td>Self-emp-not-inc</td>\n      <td>199136</td>\n      <td>Bachelors</td>\n      <td>13</td>\n      <td>Widowed</td>\n      <td>Craft-repair</td>\n      <td>Not-in-family</td>\n      <td>White</td>\n      <td>Male</td>\n      <td>15831</td>\n      <td>0</td>\n      <td>8</td>\n      <td>Germany</td>\n      <td>&gt;50K</td>\n    </tr>\n  </tbody>\n</table>\n<p>137 rows × 15 columns</p>\n</div>"
     },
     "execution_count": 38,
     "metadata": {},
     "output_type": "execute_result"
    }
   ],
   "source": [
    "df[df['native-country'] == 'Germany']"
   ],
   "metadata": {
    "collapsed": false,
    "pycharm": {
     "name": "#%%\n"
    }
   }
  },
  {
   "cell_type": "code",
   "execution_count": null,
   "outputs": [],
   "source": [],
   "metadata": {
    "collapsed": false,
    "pycharm": {
     "name": "#%%\n"
    }
   }
  }
 ],
 "metadata": {
  "kernelspec": {
   "display_name": "Python 3",
   "language": "python",
   "name": "python3"
  },
  "language_info": {
   "codemirror_mode": {
    "name": "ipython",
    "version": 2
   },
   "file_extension": ".py",
   "mimetype": "text/x-python",
   "name": "python",
   "nbconvert_exporter": "python",
   "pygments_lexer": "ipython2",
   "version": "2.7.6"
  }
 },
 "nbformat": 4,
 "nbformat_minor": 0
}