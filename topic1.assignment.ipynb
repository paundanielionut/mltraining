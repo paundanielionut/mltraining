{
 "cells": [
  {
   "cell_type": "code",
   "execution_count": 2,
   "outputs": [],
   "source": [
    "import pandas as pd\n",
    "df = pd.read_csv(\"adult.data.csv\")"
   ],
   "metadata": {
    "collapsed": false,
    "pycharm": {
     "name": "#%%\n"
    }
   }
  },
  {
   "cell_type": "code",
   "execution_count": 3,
   "outputs": [
    {
     "data": {
      "text/plain": "Male      21790\nFemale    10771\nName: sex, dtype: int64"
     },
     "execution_count": 3,
     "metadata": {},
     "output_type": "execute_result"
    }
   ],
   "source": [
    "df['sex'].value_counts()"
   ],
   "metadata": {
    "collapsed": false,
    "pycharm": {
     "name": "#%%\n"
    }
   }
  },
  {
   "cell_type": "code",
   "execution_count": 18,
   "outputs": [
    {
     "data": {
      "text/plain": "36.85823043357163"
     },
     "execution_count": 18,
     "metadata": {},
     "output_type": "execute_result"
    }
   ],
   "source": [
    "df[df['sex'].apply(lambda sex: sex == 'Female')]['age'].mean()"
   ],
   "metadata": {
    "collapsed": false,
    "pycharm": {
     "name": "#%%\n"
    }
   }
  },
  {
   "cell_type": "code",
   "execution_count": 33,
   "outputs": [
    {
     "data": {
      "text/plain": "0.42074874850281013"
     },
     "execution_count": 33,
     "metadata": {},
     "output_type": "execute_result"
    }
   ],
   "source": [
    "100 * (len(df[df['native-country'].apply(lambda state: state == \"Germany\")]) / len(df['native-country']))"
   ],
   "metadata": {
    "collapsed": false,
    "pycharm": {
     "name": "#%%\n"
    }
   }
  },
  {
   "cell_type": "code",
   "execution_count": 64,
   "outputs": [
    {
     "name": "stdout",
     "output_type": "stream",
     "text": [
      "44.24984058155847\n",
      "36.78373786407767\n",
      "10.519027719851826\n",
      "14.02008849082488\n"
     ]
    }
   ],
   "source": [
    "print(df[df['salary'] == '>50K']['age'].mean())\n",
    "print(df[df['salary'] == '<=50K']['age'].mean())\n",
    "print(df[df['salary'] == '>50K']['age'].std())\n",
    "print(df[df['salary'] == '<=50K']['age'].std())\n"
   ],
   "metadata": {
    "collapsed": false,
    "pycharm": {
     "name": "#%%\n"
    }
   }
  },
  {
   "cell_type": "code",
   "execution_count": 68,
   "outputs": [
    {
     "data": {
      "text/plain": "Bachelors       2221\nHS-grad         1675\nSome-college    1387\nMasters          959\nProf-school      423\nAssoc-voc        361\nDoctorate        306\nAssoc-acdm       265\n10th              62\n11th              60\n7th-8th           40\n12th              33\n9th               27\n5th-6th           16\n1st-4th            6\nName: education, dtype: int64"
     },
     "execution_count": 68,
     "metadata": {},
     "output_type": "execute_result"
    }
   ],
   "source": [
    "df[df['salary'] == '>50K']['education'].value_counts()\n"
   ],
   "metadata": {
    "collapsed": false,
    "pycharm": {
     "name": "#%%\n"
    }
   }
  },
  {
   "cell_type": "code",
   "execution_count": 70,
   "outputs": [
    {
     "data": {
      "text/plain": "White                 27816\nBlack                  3124\nAsian-Pac-Islander     1039\nAmer-Indian-Eskimo      311\nOther                   271\nName: race, dtype: int64"
     },
     "execution_count": 70,
     "metadata": {},
     "output_type": "execute_result"
    }
   ],
   "source": [
    "df['race'].value_counts()"
   ],
   "metadata": {
    "collapsed": false,
    "pycharm": {
     "name": "#%%\n"
    }
   }
  },
  {
   "cell_type": "code",
   "execution_count": 5,
   "outputs": [
    {
     "data": {
      "text/plain": "                           amax\nrace               sex         \nAmer-Indian-Eskimo Female    80\n                   Male      82\nAsian-Pac-Islander Female    75\n                   Male      90\nBlack              Female    90\n                   Male      90\nOther              Female    74\n                   Male      77\nWhite              Female    90\n                   Male      90",
      "text/html": "<div>\n<style scoped>\n    .dataframe tbody tr th:only-of-type {\n        vertical-align: middle;\n    }\n\n    .dataframe tbody tr th {\n        vertical-align: top;\n    }\n\n    .dataframe thead th {\n        text-align: right;\n    }\n</style>\n<table border=\"1\" class=\"dataframe\">\n  <thead>\n    <tr style=\"text-align: right;\">\n      <th></th>\n      <th></th>\n      <th>amax</th>\n    </tr>\n    <tr>\n      <th>race</th>\n      <th>sex</th>\n      <th></th>\n    </tr>\n  </thead>\n  <tbody>\n    <tr>\n      <th rowspan=\"2\" valign=\"top\">Amer-Indian-Eskimo</th>\n      <th>Female</th>\n      <td>80</td>\n    </tr>\n    <tr>\n      <th>Male</th>\n      <td>82</td>\n    </tr>\n    <tr>\n      <th rowspan=\"2\" valign=\"top\">Asian-Pac-Islander</th>\n      <th>Female</th>\n      <td>75</td>\n    </tr>\n    <tr>\n      <th>Male</th>\n      <td>90</td>\n    </tr>\n    <tr>\n      <th rowspan=\"2\" valign=\"top\">Black</th>\n      <th>Female</th>\n      <td>90</td>\n    </tr>\n    <tr>\n      <th>Male</th>\n      <td>90</td>\n    </tr>\n    <tr>\n      <th rowspan=\"2\" valign=\"top\">Other</th>\n      <th>Female</th>\n      <td>74</td>\n    </tr>\n    <tr>\n      <th>Male</th>\n      <td>77</td>\n    </tr>\n    <tr>\n      <th rowspan=\"2\" valign=\"top\">White</th>\n      <th>Female</th>\n      <td>90</td>\n    </tr>\n    <tr>\n      <th>Male</th>\n      <td>90</td>\n    </tr>\n  </tbody>\n</table>\n</div>"
     },
     "execution_count": 5,
     "metadata": {},
     "output_type": "execute_result"
    }
   ],
   "source": [
    "import numpy as np\n",
    "df.groupby(by=['race', 'sex'])['age'].agg([np.max])"
   ],
   "metadata": {
    "collapsed": false,
    "pycharm": {
     "name": "#%%\n"
    }
   }
  },
  {
   "cell_type": "code",
   "execution_count": 129,
   "outputs": [
    {
     "data": {
      "text/plain": "       age         workclass  fnlwgt    education  education-num  \\\n8       31           Private   45781      Masters             14   \n19      43  Self-emp-not-inc  292175      Masters             14   \n53      50       Federal-gov  251585    Bachelors             13   \n84      44           Private  343591      HS-grad              9   \n89      43       Federal-gov  410867    Doctorate             16   \n...    ...               ...     ...          ...            ...   \n32370   53  Self-emp-not-inc  137547  Prof-school             15   \n32429   51         Local-gov  203334    Doctorate             16   \n32504   50           Private  208630      Masters             14   \n32536   34           Private  160216    Bachelors             13   \n32538   38           Private  139180    Bachelors             13   \n\n      marital-status       occupation   relationship                race  \\\n8      Never-married   Prof-specialty  Not-in-family               White   \n19          Divorced  Exec-managerial      Unmarried               White   \n53          Divorced  Exec-managerial  Not-in-family               White   \n84          Divorced     Craft-repair  Not-in-family               White   \n89     Never-married   Prof-specialty  Not-in-family               White   \n...              ...              ...            ...                 ...   \n32370  Never-married   Prof-specialty  Not-in-family  Asian-Pac-Islander   \n32429       Divorced  Exec-managerial  Not-in-family               White   \n32504       Divorced            Sales  Not-in-family               White   \n32536  Never-married  Exec-managerial  Not-in-family               White   \n32538       Divorced   Prof-specialty      Unmarried               Black   \n\n          sex  capital-gain  capital-loss  hours-per-week native-country  \\\n8      Female         14084             0              50  United-States   \n19     Female             0             0              45  United-States   \n53       Male             0             0              55  United-States   \n84     Female         14344             0              40  United-States   \n89     Female             0             0              50  United-States   \n...       ...           ...           ...             ...            ...   \n32370    Male         27828             0              40    Philippines   \n32429  Female             0             0              45  United-States   \n32504  Female             0             0              50  United-States   \n32536  Female             0             0              55  United-States   \n32538  Female         15020             0              45  United-States   \n\n      salary  \n8       >50K  \n19      >50K  \n53      >50K  \n84      >50K  \n89      >50K  \n...      ...  \n32370   >50K  \n32429   >50K  \n32504   >50K  \n32536   >50K  \n32538   >50K  \n\n[1105 rows x 15 columns]",
      "text/html": "<div>\n<style scoped>\n    .dataframe tbody tr th:only-of-type {\n        vertical-align: middle;\n    }\n\n    .dataframe tbody tr th {\n        vertical-align: top;\n    }\n\n    .dataframe thead th {\n        text-align: right;\n    }\n</style>\n<table border=\"1\" class=\"dataframe\">\n  <thead>\n    <tr style=\"text-align: right;\">\n      <th></th>\n      <th>age</th>\n      <th>workclass</th>\n      <th>fnlwgt</th>\n      <th>education</th>\n      <th>education-num</th>\n      <th>marital-status</th>\n      <th>occupation</th>\n      <th>relationship</th>\n      <th>race</th>\n      <th>sex</th>\n      <th>capital-gain</th>\n      <th>capital-loss</th>\n      <th>hours-per-week</th>\n      <th>native-country</th>\n      <th>salary</th>\n    </tr>\n  </thead>\n  <tbody>\n    <tr>\n      <th>8</th>\n      <td>31</td>\n      <td>Private</td>\n      <td>45781</td>\n      <td>Masters</td>\n      <td>14</td>\n      <td>Never-married</td>\n      <td>Prof-specialty</td>\n      <td>Not-in-family</td>\n      <td>White</td>\n      <td>Female</td>\n      <td>14084</td>\n      <td>0</td>\n      <td>50</td>\n      <td>United-States</td>\n      <td>&gt;50K</td>\n    </tr>\n    <tr>\n      <th>19</th>\n      <td>43</td>\n      <td>Self-emp-not-inc</td>\n      <td>292175</td>\n      <td>Masters</td>\n      <td>14</td>\n      <td>Divorced</td>\n      <td>Exec-managerial</td>\n      <td>Unmarried</td>\n      <td>White</td>\n      <td>Female</td>\n      <td>0</td>\n      <td>0</td>\n      <td>45</td>\n      <td>United-States</td>\n      <td>&gt;50K</td>\n    </tr>\n    <tr>\n      <th>53</th>\n      <td>50</td>\n      <td>Federal-gov</td>\n      <td>251585</td>\n      <td>Bachelors</td>\n      <td>13</td>\n      <td>Divorced</td>\n      <td>Exec-managerial</td>\n      <td>Not-in-family</td>\n      <td>White</td>\n      <td>Male</td>\n      <td>0</td>\n      <td>0</td>\n      <td>55</td>\n      <td>United-States</td>\n      <td>&gt;50K</td>\n    </tr>\n    <tr>\n      <th>84</th>\n      <td>44</td>\n      <td>Private</td>\n      <td>343591</td>\n      <td>HS-grad</td>\n      <td>9</td>\n      <td>Divorced</td>\n      <td>Craft-repair</td>\n      <td>Not-in-family</td>\n      <td>White</td>\n      <td>Female</td>\n      <td>14344</td>\n      <td>0</td>\n      <td>40</td>\n      <td>United-States</td>\n      <td>&gt;50K</td>\n    </tr>\n    <tr>\n      <th>89</th>\n      <td>43</td>\n      <td>Federal-gov</td>\n      <td>410867</td>\n      <td>Doctorate</td>\n      <td>16</td>\n      <td>Never-married</td>\n      <td>Prof-specialty</td>\n      <td>Not-in-family</td>\n      <td>White</td>\n      <td>Female</td>\n      <td>0</td>\n      <td>0</td>\n      <td>50</td>\n      <td>United-States</td>\n      <td>&gt;50K</td>\n    </tr>\n    <tr>\n      <th>...</th>\n      <td>...</td>\n      <td>...</td>\n      <td>...</td>\n      <td>...</td>\n      <td>...</td>\n      <td>...</td>\n      <td>...</td>\n      <td>...</td>\n      <td>...</td>\n      <td>...</td>\n      <td>...</td>\n      <td>...</td>\n      <td>...</td>\n      <td>...</td>\n      <td>...</td>\n    </tr>\n    <tr>\n      <th>32370</th>\n      <td>53</td>\n      <td>Self-emp-not-inc</td>\n      <td>137547</td>\n      <td>Prof-school</td>\n      <td>15</td>\n      <td>Never-married</td>\n      <td>Prof-specialty</td>\n      <td>Not-in-family</td>\n      <td>Asian-Pac-Islander</td>\n      <td>Male</td>\n      <td>27828</td>\n      <td>0</td>\n      <td>40</td>\n      <td>Philippines</td>\n      <td>&gt;50K</td>\n    </tr>\n    <tr>\n      <th>32429</th>\n      <td>51</td>\n      <td>Local-gov</td>\n      <td>203334</td>\n      <td>Doctorate</td>\n      <td>16</td>\n      <td>Divorced</td>\n      <td>Exec-managerial</td>\n      <td>Not-in-family</td>\n      <td>White</td>\n      <td>Female</td>\n      <td>0</td>\n      <td>0</td>\n      <td>45</td>\n      <td>United-States</td>\n      <td>&gt;50K</td>\n    </tr>\n    <tr>\n      <th>32504</th>\n      <td>50</td>\n      <td>Private</td>\n      <td>208630</td>\n      <td>Masters</td>\n      <td>14</td>\n      <td>Divorced</td>\n      <td>Sales</td>\n      <td>Not-in-family</td>\n      <td>White</td>\n      <td>Female</td>\n      <td>0</td>\n      <td>0</td>\n      <td>50</td>\n      <td>United-States</td>\n      <td>&gt;50K</td>\n    </tr>\n    <tr>\n      <th>32536</th>\n      <td>34</td>\n      <td>Private</td>\n      <td>160216</td>\n      <td>Bachelors</td>\n      <td>13</td>\n      <td>Never-married</td>\n      <td>Exec-managerial</td>\n      <td>Not-in-family</td>\n      <td>White</td>\n      <td>Female</td>\n      <td>0</td>\n      <td>0</td>\n      <td>55</td>\n      <td>United-States</td>\n      <td>&gt;50K</td>\n    </tr>\n    <tr>\n      <th>32538</th>\n      <td>38</td>\n      <td>Private</td>\n      <td>139180</td>\n      <td>Bachelors</td>\n      <td>13</td>\n      <td>Divorced</td>\n      <td>Prof-specialty</td>\n      <td>Unmarried</td>\n      <td>Black</td>\n      <td>Female</td>\n      <td>15020</td>\n      <td>0</td>\n      <td>45</td>\n      <td>United-States</td>\n      <td>&gt;50K</td>\n    </tr>\n  </tbody>\n</table>\n<p>1105 rows × 15 columns</p>\n</div>"
     },
     "execution_count": 129,
     "metadata": {},
     "output_type": "execute_result"
    }
   ],
   "source": [
    "married_df = df[df['marital-status'].apply(lambda marietal_status: marietal_status.startswith('Married') )]\n",
    "single_df = df[df['marital-status'].apply(lambda marietal_status: not marietal_status.startswith('Married') )]\n",
    "married = married_df[married_df['salary'] == \">50K\"]\n",
    "single = single_df[single_df['salary'] == \">50K\"]\n",
    "single"
   ],
   "metadata": {
    "collapsed": false,
    "pycharm": {
     "name": "#%%\n"
    }
   }
  },
  {
   "cell_type": "code",
   "execution_count": 15,
   "outputs": [
    {
     "data": {
      "text/plain": "25"
     },
     "execution_count": 15,
     "metadata": {},
     "output_type": "execute_result"
    }
   ],
   "source": [
    "max_hours_per_week = df['hours-per-week'].apply([np.max])['amax']\n",
    "\n",
    "len(df[df['hours-per-week'] == max_hours_per_week])\n",
    "\n",
    "df = df[df['hours-per-week'] == max_hours_per_week]\n",
    "len(df[df['salary'] == '>50K'])"
   ],
   "metadata": {
    "collapsed": false,
    "pycharm": {
     "name": "#%%\n"
    }
   }
  },
  {
   "cell_type": "code",
   "execution_count": 16,
   "outputs": [
    {
     "data": {
      "text/plain": "99"
     },
     "execution_count": 16,
     "metadata": {},
     "output_type": "execute_result"
    }
   ],
   "source": [
    "df['hours-per-week'].apply([np.max])['amax']"
   ],
   "metadata": {
    "collapsed": false,
    "pycharm": {
     "name": "#%%\n"
    }
   }
  },
  {
   "cell_type": "code",
   "execution_count": 36,
   "outputs": [
    {
     "data": {
      "text/plain": "native-country\n?                99.0\nEngland          99.0\nMexico           99.0\nPhilippines      99.0\nSouth            99.0\nUnited-States    99.0\nName: hours-per-week, dtype: float64"
     },
     "execution_count": 36,
     "metadata": {},
     "output_type": "execute_result"
    }
   ],
   "source": [
    "df_alot_salary, df_little_salary = df[df['salary'] == '>50K'], df[df['salary'] == '<=50K']\n",
    "# df_alot_salary.groupby(by=['native-country'])['hours-per-week'].apply(np.mean)\n",
    "df_little_salary.groupby(by=['native-country'])['hours-per-week'].apply(np.mean)\n"
   ],
   "metadata": {
    "collapsed": false,
    "pycharm": {
     "name": "#%%\n"
    }
   }
  },
  {
   "cell_type": "code",
   "execution_count": 33,
   "outputs": [],
   "source": [],
   "metadata": {
    "collapsed": false,
    "pycharm": {
     "name": "#%%\n"
    }
   }
  },
  {
   "cell_type": "code",
   "execution_count": null,
   "outputs": [],
   "source": [],
   "metadata": {
    "collapsed": false,
    "pycharm": {
     "name": "#%%\n"
    }
   }
  }
 ],
 "metadata": {
  "kernelspec": {
   "display_name": "Python 3",
   "language": "python",
   "name": "python3"
  },
  "language_info": {
   "codemirror_mode": {
    "name": "ipython",
    "version": 2
   },
   "file_extension": ".py",
   "mimetype": "text/x-python",
   "name": "python",
   "nbconvert_exporter": "python",
   "pygments_lexer": "ipython2",
   "version": "2.7.6"
  }
 },
 "nbformat": 4,
 "nbformat_minor": 0
}